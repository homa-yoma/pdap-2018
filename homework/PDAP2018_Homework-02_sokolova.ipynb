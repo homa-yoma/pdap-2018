{
 "cells": [
  {
   "cell_type": "code",
   "execution_count": 9,
   "metadata": {},
   "outputs": [],
   "source": [
    "# Practical Data Analysis with Python / Summer 2018: Homework assignment 2"
   ]
  },
  {
   "cell_type": "markdown",
   "metadata": {},
   "source": [
    "## Preliminaries\n",
    "\n",
    "Please write your name(s) and matriculatrion number(s) in the following *markdown* cell: "
   ]
  },
  {
   "cell_type": "markdown",
   "metadata": {},
   "source": [
    "Nadezhda Sokolova, 3152912"
   ]
  },
  {
   "cell_type": "markdown",
   "metadata": {},
   "source": [
    "## Exploring the `math` module\n",
    "\n",
    "Please answer these questions in the following *markdown* cell:\n",
    "\n",
    "1. What function from the math module can you use to calculate a square root without using `sqrt`?\n",
    "2. Since the library contains this function, why does `sqrt` exist?"
   ]
  },
  {
   "cell_type": "markdown",
   "metadata": {},
   "source": [
    "1. pow(...) \n"
   ]
  },
  {
   "cell_type": "code",
   "execution_count": 9,
   "metadata": {},
   "outputs": [
    {
     "name": "stdout",
     "output_type": "stream",
     "text": [
      "2.0 2.0\n"
     ]
    }
   ],
   "source": [
    "import math\n",
    "\n",
    "#help(math)\n",
    "\n",
    "a = 4\n",
    "b = math.sqrt(a)\n",
    "c = math.pow(a, 1/2)\n",
    "\n",
    "print(b, c)"
   ]
  },
  {
   "cell_type": "markdown",
   "metadata": {},
   "source": [
    "Now, please calculate the value of the following expression in the next code cell:\n",
    "\n",
    "$$\\frac{\\sin(23^\\circ)^\\frac{3}{2}}{\\tanh(0.432 \\cdot \\pi)}$$"
   ]
  },
  {
   "cell_type": "code",
   "execution_count": 40,
   "metadata": {},
   "outputs": [
    {
     "name": "stdout",
     "output_type": "stream",
     "text": [
      "(-1.4299713954480207e-16-0.7784401709094805j)\n",
      "0.8757346006196771\n",
      "(-1.6328821476691237e-16-0.8888996396381389j)\n"
     ]
    }
   ],
   "source": [
    "import math\n",
    "#help(math)\n",
    "\n",
    "grad_value = 23\n",
    "tanh_value = 0.432\n",
    "power_value = 1.5\n",
    "\n",
    "\n",
    "#my_sin_value = m.sin(grad_value)\n",
    "#print (my_sin_value)\n",
    "\n",
    "my_numerator = pow(m.sin(grad_value), power_value)\n",
    "print(my_power_value)\n",
    "\n",
    "my_denominator = m.tanh(tanh_value * m.pi)\n",
    "print(my_denominator)\n",
    "\n",
    "my_answer = my_numerator/my_denominator\n",
    "print(my_answer)"
   ]
  },
  {
   "cell_type": "markdown",
   "metadata": {},
   "source": [
    "## Locating the Right Module\n",
    "\n",
    "Suppose that you want to select a random character from a string:\n",
    "\n",
    "    bases = 'ACTTGCTTGAC'\n",
    "\n",
    "Please answer these two questions in the following *markdown* cell:\n",
    "\n",
    "1. Which standard library module could help you?\n",
    "\n",
    "2. Which function would you select from that module? Are there alternatives?"
   ]
  },
  {
   "cell_type": "markdown",
   "metadata": {},
   "source": []
  },
  {
   "cell_type": "markdown",
   "metadata": {},
   "source": [
    "Now, try to write Python code that selects one random character from the string `bases` in the following *code* cell:"
   ]
  },
  {
   "cell_type": "code",
   "execution_count": 32,
   "metadata": {},
   "outputs": [
    {
     "data": {
      "text/plain": [
       "'ACTTGCTTGAC'"
      ]
     },
     "execution_count": 32,
     "metadata": {},
     "output_type": "execute_result"
    }
   ],
   "source": [
    "bases = 'ACTTGCTTGAC'\n",
    "bases"
   ]
  },
  {
   "cell_type": "code",
   "execution_count": 35,
   "metadata": {},
   "outputs": [
    {
     "data": {
      "text/plain": [
       "'T'"
      ]
     },
     "execution_count": 35,
     "metadata": {},
     "output_type": "execute_result"
    }
   ],
   "source": [
    "random.choice(bases)"
   ]
  }
 ],
 "metadata": {
  "kernelspec": {
   "display_name": "Python 3",
   "language": "python",
   "name": "python3"
  },
  "language_info": {
   "codemirror_mode": {
    "name": "ipython",
    "version": 3
   },
   "file_extension": ".py",
   "mimetype": "text/x-python",
   "name": "python",
   "nbconvert_exporter": "python",
   "pygments_lexer": "ipython3",
   "version": "3.6.4"
  }
 },
 "nbformat": 4,
 "nbformat_minor": 2
}
